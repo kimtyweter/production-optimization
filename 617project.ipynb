{
 "cells": [
  {
   "cell_type": "code",
   "execution_count": 1,
   "id": "be2d9fee",
   "metadata": {},
   "outputs": [],
   "source": [
    "import pandas as pd\n",
    "import gurobipy as gp\n",
    "from gurobipy import GRB\n",
    "from itertools import product"
   ]
  },
  {
   "cell_type": "code",
   "execution_count": 2,
   "id": "e9ef8c1e",
   "metadata": {},
   "outputs": [],
   "source": [
    "Factory = ['Troy, NY', 'Newark, NJ', 'Harrisburg, PA']\n",
    "Line = ['line 1', 'line 2', 'line 3']\n",
    "Month = ['Jan', 'Feb', 'Mar', 'Apr', 'May', 'Jun', 'Jul', 'Aug', 'Sep', 'Oct', 'Nov', 'Dec']"
   ]
  },
  {
   "cell_type": "markdown",
   "id": "5f188789",
   "metadata": {},
   "source": [
    "# Model 1"
   ]
  },
  {
   "cell_type": "code",
   "execution_count": 3,
   "id": "415fa77c",
   "metadata": {},
   "outputs": [
    {
     "name": "stdout",
     "output_type": "stream",
     "text": [
      "Restricted license - for non-production use only - expires 2023-10-25\n"
     ]
    }
   ],
   "source": [
    "m = gp.Model(\"All same\")"
   ]
  },
  {
   "cell_type": "code",
   "execution_count": 4,
   "id": "7da90c4a",
   "metadata": {},
   "outputs": [],
   "source": [
    "# Transportation cost\n",
    "ship = pd.read_excel('Project Data.xlsx', 'shipping_cost')\n",
    "ship = ship.iloc[:, 1:]\n",
    "c = {(facility, customer): ship.iloc[facility, customer]\n",
    "            for facility in range(0, 3)\n",
    "            for customer in range(0, 8)}\n",
    "\n",
    "# Production rate of production line l at factory i (Units per hour) \n",
    "wear = pd.read_excel('Project Data.xlsx', 'production_rate')\n",
    "wear = wear.iloc[:, 1:]\n",
    "w = {(facility, line): wear.iloc[facility, line]\n",
    "            for facility in range(0, 3)\n",
    "            for line in range(0, 3)}\n",
    "\n",
    "# Production capacity : M\n",
    "\n",
    "M = {(facility, line): wear.iloc[facility, line] * 160\n",
    "            for facility in range(0, 3)\n",
    "            for line in range(0, 3)}\n",
    "# energy cost\n",
    "energy = pd.read_excel('Project Data.xlsx', 'energy_cost')\n",
    "energy = energy.iloc[:, 1:]\n",
    "e = {(facility, line): energy.iloc[facility, line]\n",
    "            for facility in range(0, 3)\n",
    "            for line in range(0, 3)}\n",
    "# demand\n",
    "demand = pd.read_excel('Project Data.xlsx', 'demand')\n",
    "demand = demand.iloc[:, 1:]\n",
    "d = {(month, customer): demand.iloc[month, customer]\n",
    "            for month in range(0, 12)\n",
    "            for customer in range(0, 8)}"
   ]
  },
  {
   "cell_type": "markdown",
   "id": "e3e0111b",
   "metadata": {},
   "source": [
    "### Decision variable"
   ]
  },
  {
   "cell_type": "code",
   "execution_count": 5,
   "id": "8e474ec7",
   "metadata": {},
   "outputs": [],
   "source": [
    "# the number of units transported from factory i to store j in month m\n",
    "u = m.addVars(list(product(range(0, 3), range(0, 8), range(0, 12))),lb = 0 ,vtype = GRB.INTEGER, name='units transported')\n",
    "\n",
    "# the number of units produced at factory i from production line l in month m\n",
    "s = m.addVars(list(product(range(0, 3), range(0, 3), range(0, 12))),lb = 0,vtype = GRB.INTEGER, name='units produced')"
   ]
  },
  {
   "cell_type": "markdown",
   "id": "db4ee23b",
   "metadata": {},
   "source": [
    "### Objective function"
   ]
  },
  {
   "cell_type": "code",
   "execution_count": 6,
   "id": "9e4bbc7a",
   "metadata": {},
   "outputs": [],
   "source": [
    "m.setObjective(( gp.quicksum(1.2 *c[i,j] * u[i, j, m] + e[i, l] * s[i, l, m] for l in range(0, 3) \n",
    "                             for m in range(0, 12) for j in range(0, 8) for i in range(0, 3))), GRB.MINIMIZE)"
   ]
  },
  {
   "cell_type": "markdown",
   "id": "e89cd893",
   "metadata": {},
   "source": [
    "### Constractions"
   ]
  },
  {
   "cell_type": "code",
   "execution_count": 7,
   "id": "29d6ab13",
   "metadata": {},
   "outputs": [
    {
     "name": "stdout",
     "output_type": "stream",
     "text": [
      "Gurobi Optimizer version 9.5.1 build v9.5.1rc2 (mac64[rosetta2])\n",
      "Thread count: 8 physical cores, 8 logical processors, using up to 8 threads\n",
      "Optimize a model with 348 rows, 396 columns and 1188 nonzeros\n",
      "Model fingerprint: 0xbf7bcb1d\n",
      "Variable types: 0 continuous, 396 integer (0 binary)\n",
      "Coefficient statistics:\n",
      "  Matrix range     [2e-01, 2e+00]\n",
      "  Objective range  [9e-02, 4e+02]\n",
      "  Bounds range     [0e+00, 0e+00]\n",
      "  RHS range        [2e+01, 2e+03]\n",
      "Presolve removed 337 rows and 371 columns\n",
      "Presolve time: 0.02s\n",
      "Presolved: 11 rows, 25 columns, 51 nonzeros\n",
      "Variable types: 0 continuous, 25 integer (1 binary)\n",
      "Found heuristic solution: objective 2748831.7747\n",
      "Found heuristic solution: objective 2747837.5066\n",
      "\n",
      "Root relaxation: objective 2.747800e+06, 9 iterations, 0.00 seconds (0.00 work units)\n",
      "\n",
      "    Nodes    |    Current Node    |     Objective Bounds      |     Work\n",
      " Expl Unexpl |  Obj  Depth IntInf | Incumbent    BestBd   Gap | It/Node Time\n",
      "\n",
      "     0     0          -    0      2747837.51 2747800.47  0.00%     -    0s\n",
      "\n",
      "Explored 1 nodes (9 simplex iterations) in 0.03 seconds (0.00 work units)\n",
      "Thread count was 8 (of 8 available processors)\n",
      "\n",
      "Solution count 2: 2.74784e+06 2.74883e+06 \n",
      "\n",
      "Optimal solution found (tolerance 1.00e-04)\n",
      "Best objective 2.747837506560e+06, best bound 2.747800473600e+06, gap 0.0013%\n"
     ]
    }
   ],
   "source": [
    "# 1. Demand Fulfilment on Transportation\n",
    "m.addConstrs((gp.quicksum(u[i, j, m] for i in range(0, 3)) >= d[m, j] \n",
    "              for j in range(0, 8) for m in range(0, 12)), name='Demand')\n",
    "\n",
    "# 2. Production Capacity\n",
    "m.addConstrs((s[i, l, m] <= M[i, l] \n",
    "              for l in range(0, 3) for i in range(0, 3) for m in range(0, 12)), name='Capacity')\n",
    "\n",
    "# 3. Demand Fulfilment on Factory\n",
    "m.addConstrs((gp.quicksum(s[i, l, m] for i in range(0, 3) for l in range(0, 3)) >= (gp.quicksum(d[m, j] for j in range(0, 8)))\n",
    "              for m in range(0, 12)), name='Demand')\n",
    "\n",
    "# 4. Transportation units can’t exceed production units\n",
    "m.addConstrs((gp.quicksum(u[i, j, m] for j in range(0, 8)) <= gp.quicksum(s[i, l, m] for l in range(0, 3))\n",
    "              for i in range(0, 3) for m in range(0, 12)), name='Transport units')\n",
    "\n",
    "# 5. Consistent production\n",
    "m.addConstrs((gp.quicksum(s[0, l, m] for l in range(0, 3)) == gp.quicksum(s[1, l, m] for l in range(0, 3))\n",
    "              for m in range(0, 12)), name = 'Consist production 1')\n",
    "\n",
    "\n",
    "m.addConstrs((gp.quicksum(s[1, l, m] for l in range(0, 3)) == gp.quicksum(s[2, l, m] for l in range(0, 3))\n",
    "              for m in range(0, 12)), name = 'Consist production 2')\n",
    "\n",
    "# 6. Equal wear and tear\n",
    "m.addConstrs((s[i, 0, m] / w[i, 0] == s[i, 1, m] / w[i, 1] \n",
    "              for i in range(0, 3) for m in range(0, 12)), name = '1')\n",
    "m.addConstrs((s[i, 1, m] / w[i, 1] == s[i, 2, m] / w[i, 2] \n",
    "              for i in range(0, 3) for m in range(0, 12)), name = '2')\n",
    "\n",
    "\n",
    "# Optimization\n",
    "m.optimize()"
   ]
  },
  {
   "cell_type": "code",
   "execution_count": 8,
   "id": "4b104d70",
   "metadata": {
    "scrolled": true
   },
   "outputs": [
    {
     "data": {
      "text/plain": [
       "2747837.506560001"
      ]
     },
     "execution_count": 8,
     "metadata": {},
     "output_type": "execute_result"
    }
   ],
   "source": [
    "obj = m.getObjective()\n",
    "model1_price = obj.getValue()\n",
    "model1_price"
   ]
  },
  {
   "cell_type": "code",
   "execution_count": 9,
   "id": "9a44e5ee",
   "metadata": {
    "scrolled": false
   },
   "outputs": [],
   "source": [
    "# Output\n",
    "factory = []\n",
    "production_line = []\n",
    "month = []\n",
    "quantity = []\n",
    "for facility in s.keys():\n",
    "    factory.append(Factory[facility[0]])\n",
    "    production_line.append(Line[facility[1]])\n",
    "    month.append(Month[facility[2]])\n",
    "    quantity.append(s[facility].x)\n",
    "\n",
    "model1 = pd.DataFrame({'Factory':factory, 'ProductionLine':production_line,'Month':month, 'Quantity':quantity})\n",
    "model1.to_excel('Model1_same_quantity.xlsx', index = 0)\n"
   ]
  },
  {
   "cell_type": "code",
   "execution_count": 10,
   "id": "8d82e852",
   "metadata": {},
   "outputs": [
    {
     "data": {
      "text/html": [
       "<div>\n",
       "<style scoped>\n",
       "    .dataframe tbody tr th:only-of-type {\n",
       "        vertical-align: middle;\n",
       "    }\n",
       "\n",
       "    .dataframe tbody tr th {\n",
       "        vertical-align: top;\n",
       "    }\n",
       "\n",
       "    .dataframe thead th {\n",
       "        text-align: right;\n",
       "    }\n",
       "</style>\n",
       "<table border=\"1\" class=\"dataframe\">\n",
       "  <thead>\n",
       "    <tr style=\"text-align: right;\">\n",
       "      <th></th>\n",
       "      <th>Factory</th>\n",
       "      <th>ProductionLine</th>\n",
       "      <th>Month</th>\n",
       "      <th>Quantity</th>\n",
       "    </tr>\n",
       "  </thead>\n",
       "  <tbody>\n",
       "    <tr>\n",
       "      <th>0</th>\n",
       "      <td>Troy, NY</td>\n",
       "      <td>line 1</td>\n",
       "      <td>Jan</td>\n",
       "      <td>480.0</td>\n",
       "    </tr>\n",
       "    <tr>\n",
       "      <th>1</th>\n",
       "      <td>Troy, NY</td>\n",
       "      <td>line 1</td>\n",
       "      <td>Feb</td>\n",
       "      <td>480.0</td>\n",
       "    </tr>\n",
       "    <tr>\n",
       "      <th>2</th>\n",
       "      <td>Troy, NY</td>\n",
       "      <td>line 1</td>\n",
       "      <td>Mar</td>\n",
       "      <td>480.0</td>\n",
       "    </tr>\n",
       "    <tr>\n",
       "      <th>3</th>\n",
       "      <td>Troy, NY</td>\n",
       "      <td>line 1</td>\n",
       "      <td>Apr</td>\n",
       "      <td>480.0</td>\n",
       "    </tr>\n",
       "    <tr>\n",
       "      <th>4</th>\n",
       "      <td>Troy, NY</td>\n",
       "      <td>line 1</td>\n",
       "      <td>May</td>\n",
       "      <td>480.0</td>\n",
       "    </tr>\n",
       "    <tr>\n",
       "      <th>...</th>\n",
       "      <td>...</td>\n",
       "      <td>...</td>\n",
       "      <td>...</td>\n",
       "      <td>...</td>\n",
       "    </tr>\n",
       "    <tr>\n",
       "      <th>103</th>\n",
       "      <td>Harrisburg, PA</td>\n",
       "      <td>line 3</td>\n",
       "      <td>Aug</td>\n",
       "      <td>48.0</td>\n",
       "    </tr>\n",
       "    <tr>\n",
       "      <th>104</th>\n",
       "      <td>Harrisburg, PA</td>\n",
       "      <td>line 3</td>\n",
       "      <td>Sep</td>\n",
       "      <td>48.0</td>\n",
       "    </tr>\n",
       "    <tr>\n",
       "      <th>105</th>\n",
       "      <td>Harrisburg, PA</td>\n",
       "      <td>line 3</td>\n",
       "      <td>Oct</td>\n",
       "      <td>48.0</td>\n",
       "    </tr>\n",
       "    <tr>\n",
       "      <th>106</th>\n",
       "      <td>Harrisburg, PA</td>\n",
       "      <td>line 3</td>\n",
       "      <td>Nov</td>\n",
       "      <td>48.0</td>\n",
       "    </tr>\n",
       "    <tr>\n",
       "      <th>107</th>\n",
       "      <td>Harrisburg, PA</td>\n",
       "      <td>line 3</td>\n",
       "      <td>Dec</td>\n",
       "      <td>72.0</td>\n",
       "    </tr>\n",
       "  </tbody>\n",
       "</table>\n",
       "<p>108 rows × 4 columns</p>\n",
       "</div>"
      ],
      "text/plain": [
       "            Factory ProductionLine Month  Quantity\n",
       "0          Troy, NY         line 1   Jan     480.0\n",
       "1          Troy, NY         line 1   Feb     480.0\n",
       "2          Troy, NY         line 1   Mar     480.0\n",
       "3          Troy, NY         line 1   Apr     480.0\n",
       "4          Troy, NY         line 1   May     480.0\n",
       "..              ...            ...   ...       ...\n",
       "103  Harrisburg, PA         line 3   Aug      48.0\n",
       "104  Harrisburg, PA         line 3   Sep      48.0\n",
       "105  Harrisburg, PA         line 3   Oct      48.0\n",
       "106  Harrisburg, PA         line 3   Nov      48.0\n",
       "107  Harrisburg, PA         line 3   Dec      72.0\n",
       "\n",
       "[108 rows x 4 columns]"
      ]
     },
     "execution_count": 10,
     "metadata": {},
     "output_type": "execute_result"
    }
   ],
   "source": [
    "model1"
   ]
  },
  {
   "cell_type": "markdown",
   "id": "abb1a013",
   "metadata": {},
   "source": [
    "# Model 2"
   ]
  },
  {
   "cell_type": "code",
   "execution_count": 11,
   "id": "ce3581cd",
   "metadata": {},
   "outputs": [],
   "source": [
    "m = gp.Model(\"Difference\")"
   ]
  },
  {
   "cell_type": "code",
   "execution_count": 12,
   "id": "ddd8e593",
   "metadata": {},
   "outputs": [],
   "source": [
    "# Transportation cost\n",
    "# shipping_cost\n",
    "ship = pd.read_excel('Project Data.xlsx', 'shipping_cost')\n",
    "ship = ship.iloc[:, 1:]\n",
    "c = {(facility, customer): ship.iloc[facility, customer]\n",
    "            for facility in range(0, 3)\n",
    "            for customer in range(0, 8)}\n",
    "# Production rate of production line l at factory i (Units per hour) \n",
    "wear = pd.read_excel('Project Data.xlsx', 'production_rate')\n",
    "wear = wear.iloc[:, 1:]\n",
    "w = {(facility, line): wear.iloc[facility, line]\n",
    "            for facility in range(0, 3)\n",
    "            for line in range(0, 3)}\n",
    "# Production capacity : M\n",
    "\n",
    "M = {(facility, line): wear.iloc[facility, line] * 160\n",
    "            for facility in range(0, 3)\n",
    "            for line in range(0, 3)}\n",
    "# energy cost\n",
    "energy = pd.read_excel('Project Data.xlsx', 'energy_cost')\n",
    "energy = energy.iloc[:, 1:]\n",
    "e = {(facility, line): energy.iloc[facility, line]\n",
    "            for facility in range(0, 3)\n",
    "            for line in range(0, 3)}\n",
    "# demand\n",
    "demand = pd.read_excel('Project Data.xlsx', 'demand')\n",
    "demand = demand.iloc[:, 1:]\n",
    "d = {(month, customer): demand.iloc[month, customer]\n",
    "            for month in range(0, 12)\n",
    "            for customer in range(0, 8)}"
   ]
  },
  {
   "cell_type": "markdown",
   "id": "26f8a8f7",
   "metadata": {},
   "source": [
    "### Decision variable"
   ]
  },
  {
   "cell_type": "code",
   "execution_count": 13,
   "id": "abaeb9a4",
   "metadata": {},
   "outputs": [],
   "source": [
    "# the number of units transported from factory i to store j in month m\n",
    "u = m.addVars(list(product(range(0, 3), range(0, 8), range(0, 12))),lb = 0 ,vtype = GRB.INTEGER, name='units transported')\n",
    "\n",
    "# the number of units produced at factory i from production line l in month m\n",
    "s = m.addVars(list(product(range(0, 3), range(0, 3), range(0, 12))),lb = 0,vtype = GRB.INTEGER, name='units produced')"
   ]
  },
  {
   "cell_type": "markdown",
   "id": "aa034aeb",
   "metadata": {},
   "source": [
    "### Objective function"
   ]
  },
  {
   "cell_type": "code",
   "execution_count": 14,
   "id": "fa1ec76f",
   "metadata": {},
   "outputs": [],
   "source": [
    "m.setObjective((gp.quicksum(1.2 * c[i,j] * u[i, j, m] + e[i, l] * s[i, l, m] for l in range(0, 3) \n",
    "                             for m in range(0, 12) for j in range(0, 8) for i in range(0, 3))), GRB.MINIMIZE)"
   ]
  },
  {
   "cell_type": "markdown",
   "id": "64786ca2",
   "metadata": {},
   "source": [
    "### Constractions"
   ]
  },
  {
   "cell_type": "code",
   "execution_count": 15,
   "id": "e9f216e1",
   "metadata": {
    "scrolled": true
   },
   "outputs": [
    {
     "name": "stdout",
     "output_type": "stream",
     "text": [
      "Gurobi Optimizer version 9.5.1 build v9.5.1rc2 (mac64[rosetta2])\n",
      "Thread count: 8 physical cores, 8 logical processors, using up to 8 threads\n",
      "Optimize a model with 360 rows, 396 columns and 1116 nonzeros\n",
      "Model fingerprint: 0xee3ecdab\n",
      "Variable types: 0 continuous, 396 integer (0 binary)\n",
      "Coefficient statistics:\n",
      "  Matrix range     [2e-01, 2e+00]\n",
      "  Objective range  [9e-02, 4e+02]\n",
      "  Bounds range     [0e+00, 0e+00]\n",
      "  RHS range        [2e+01, 2e+03]\n",
      "Found heuristic solution: objective 3664885.3824\n",
      "Presolve removed 348 rows and 369 columns\n",
      "Presolve time: 0.02s\n",
      "Presolved: 12 rows, 27 columns, 54 nonzeros\n",
      "Found heuristic solution: objective 1565689.7434\n",
      "Variable types: 0 continuous, 27 integer (0 binary)\n",
      "Found heuristic solution: objective 1565684.3520\n",
      "\n",
      "Root relaxation: objective 1.504731e+06, 11 iterations, 0.00 seconds (0.00 work units)\n",
      "\n",
      "    Nodes    |    Current Node    |     Objective Bounds      |     Work\n",
      " Expl Unexpl |  Obj  Depth IntInf | Incumbent    BestBd   Gap | It/Node Time\n",
      "\n",
      "     0     0 1504730.91    0    1 1565684.35 1504730.91  3.89%     -    0s\n",
      "H    0     0                    1505412.1498 1504730.91  0.05%     -    0s\n",
      "H    0     0                    1505412.0576 1504730.91  0.05%     -    0s\n",
      "H    0     0                    1505213.6448 1504730.91  0.03%     -    0s\n",
      "H    0     0                    1505199.5674 1504730.91  0.03%     -    0s\n",
      "\n",
      "Cutting planes:\n",
      "  MIR: 1\n",
      "\n",
      "Explored 1 nodes (11 simplex iterations) in 0.03 seconds (0.00 work units)\n",
      "Thread count was 8 (of 8 available processors)\n",
      "\n",
      "Solution count 7: 1.5052e+06 1.50521e+06 1.50541e+06 ... 3.66489e+06\n",
      "\n",
      "Optimal solution found (tolerance 1.00e-04)\n",
      "Best objective 1.505199567360e+06, best bound 1.505113192320e+06, gap 0.0057%\n"
     ]
    }
   ],
   "source": [
    "# 1. Demand Fulfilment on Transportation\n",
    "m.addConstrs((gp.quicksum(u[i, j, m] for i in range(0, 3)) >= d[m, j] \n",
    "              for j in range(0, 8) for m in range(0, 12)), name='Demand')\n",
    "\n",
    "# 2. Production Capacity\n",
    "m.addConstrs((s[i, l, m] <= M[i, l] \n",
    "              for l in range(0, 3) for i in range(0, 3) for m in range(0, 12)), name='Capacity')\n",
    "\n",
    "# 3. Demand Fulfilment on Factory\n",
    "m.addConstrs((gp.quicksum(s[i, l, m] for i in range(0, 3) for l in range(0, 3)) >= (gp.quicksum(d[m, j] \n",
    "            for j in range(0, 8))) for m in range(0, 12)), name='Demand')\n",
    "\n",
    "# 4. Transportation units can’t exceed production units\n",
    "m.addConstrs((gp.quicksum(u[i, j, m] for j in range(0, 8)) <= gp.quicksum(s[i, l, m] for l in range(0, 3))\n",
    "              for i in range(0, 3) for m in range(0, 12)), name='Transport units')\n",
    "\n",
    "# 6. Equal wear and tear\n",
    "m.addConstrs((s[i, 0, m] / w[i, 0] == s[i, 1, m] / w[i, 1] \n",
    "              for i in range(0, 3) for m in range(0, 12)), name = '1')\n",
    "\n",
    "m.addConstrs((s[i, 1, m] / w[i, 1] == s[i, 2, m] / w[i, 2] \n",
    "              for i in range(0, 3) for m in range(0, 12)), name = '2')\n",
    "\n",
    "m.addConstrs((s[i, 0, m] / w[i, 0] == s[i, 2, m] / w[i, 2] \n",
    "              for i in range(0, 3) for m in range(0, 12)), name = '3')\n",
    "\n",
    "# m.addConstrs((s[0, l, m] / w[0, l] == s[1, l, m] / w[1, l] for l in range(0, 3) for m in range(0, 12)), name = 'Each factory all same 1')\n",
    "# m.addConstrs((s[1, l, m] / w[1, l] == s[2, l, m] / w[2, l] for l in range(0, 3) for m in range(0, 12)), name = 'Each factory all same 2')\n",
    "\n",
    "# Run optimization\n",
    "m.optimize()"
   ]
  },
  {
   "cell_type": "code",
   "execution_count": 16,
   "id": "7cc56fd5",
   "metadata": {},
   "outputs": [
    {
     "data": {
      "text/plain": [
       "1505199.5673599998"
      ]
     },
     "execution_count": 16,
     "metadata": {},
     "output_type": "execute_result"
    }
   ],
   "source": [
    "obj = m.getObjective()\n",
    "model2_price = obj.getValue()\n",
    "model2_price"
   ]
  },
  {
   "cell_type": "code",
   "execution_count": 17,
   "id": "16225909",
   "metadata": {
    "scrolled": false
   },
   "outputs": [],
   "source": [
    "# Output\n",
    "factory = []\n",
    "production_line = []\n",
    "month = []\n",
    "quantity = []\n",
    "for facility in s.keys():\n",
    "    factory.append(Factory[facility[0]])\n",
    "    production_line.append(Line[facility[1]])\n",
    "    month.append(Month[facility[2]])\n",
    "    quantity.append(s[facility].x)\n",
    "\n",
    "model2 = pd.DataFrame({'Factory':factory, 'ProductionLine':production_line,'Month':month, 'Quantity':quantity})\n",
    "model2.to_excel('Model2_dif_quantity.xlsx', index = 0)"
   ]
  },
  {
   "cell_type": "code",
   "execution_count": 18,
   "id": "4d3137bf",
   "metadata": {
    "scrolled": true
   },
   "outputs": [
    {
     "data": {
      "text/html": [
       "<div>\n",
       "<style scoped>\n",
       "    .dataframe tbody tr th:only-of-type {\n",
       "        vertical-align: middle;\n",
       "    }\n",
       "\n",
       "    .dataframe tbody tr th {\n",
       "        vertical-align: top;\n",
       "    }\n",
       "\n",
       "    .dataframe thead th {\n",
       "        text-align: right;\n",
       "    }\n",
       "</style>\n",
       "<table border=\"1\" class=\"dataframe\">\n",
       "  <thead>\n",
       "    <tr style=\"text-align: right;\">\n",
       "      <th></th>\n",
       "      <th>Factory</th>\n",
       "      <th>ProductionLine</th>\n",
       "      <th>Month</th>\n",
       "      <th>Quantity</th>\n",
       "    </tr>\n",
       "  </thead>\n",
       "  <tbody>\n",
       "    <tr>\n",
       "      <th>0</th>\n",
       "      <td>Troy, NY</td>\n",
       "      <td>line 1</td>\n",
       "      <td>Jan</td>\n",
       "      <td>150.0</td>\n",
       "    </tr>\n",
       "    <tr>\n",
       "      <th>1</th>\n",
       "      <td>Troy, NY</td>\n",
       "      <td>line 1</td>\n",
       "      <td>Feb</td>\n",
       "      <td>186.0</td>\n",
       "    </tr>\n",
       "    <tr>\n",
       "      <th>2</th>\n",
       "      <td>Troy, NY</td>\n",
       "      <td>line 1</td>\n",
       "      <td>Mar</td>\n",
       "      <td>228.0</td>\n",
       "    </tr>\n",
       "    <tr>\n",
       "      <th>3</th>\n",
       "      <td>Troy, NY</td>\n",
       "      <td>line 1</td>\n",
       "      <td>Apr</td>\n",
       "      <td>252.0</td>\n",
       "    </tr>\n",
       "    <tr>\n",
       "      <th>4</th>\n",
       "      <td>Troy, NY</td>\n",
       "      <td>line 1</td>\n",
       "      <td>May</td>\n",
       "      <td>168.0</td>\n",
       "    </tr>\n",
       "    <tr>\n",
       "      <th>...</th>\n",
       "      <td>...</td>\n",
       "      <td>...</td>\n",
       "      <td>...</td>\n",
       "      <td>...</td>\n",
       "    </tr>\n",
       "    <tr>\n",
       "      <th>103</th>\n",
       "      <td>Harrisburg, PA</td>\n",
       "      <td>line 3</td>\n",
       "      <td>Aug</td>\n",
       "      <td>79.0</td>\n",
       "    </tr>\n",
       "    <tr>\n",
       "      <th>104</th>\n",
       "      <td>Harrisburg, PA</td>\n",
       "      <td>line 3</td>\n",
       "      <td>Sep</td>\n",
       "      <td>79.0</td>\n",
       "    </tr>\n",
       "    <tr>\n",
       "      <th>105</th>\n",
       "      <td>Harrisburg, PA</td>\n",
       "      <td>line 3</td>\n",
       "      <td>Oct</td>\n",
       "      <td>80.0</td>\n",
       "    </tr>\n",
       "    <tr>\n",
       "      <th>106</th>\n",
       "      <td>Harrisburg, PA</td>\n",
       "      <td>line 3</td>\n",
       "      <td>Nov</td>\n",
       "      <td>80.0</td>\n",
       "    </tr>\n",
       "    <tr>\n",
       "      <th>107</th>\n",
       "      <td>Harrisburg, PA</td>\n",
       "      <td>line 3</td>\n",
       "      <td>Dec</td>\n",
       "      <td>79.0</td>\n",
       "    </tr>\n",
       "  </tbody>\n",
       "</table>\n",
       "<p>108 rows × 4 columns</p>\n",
       "</div>"
      ],
      "text/plain": [
       "            Factory ProductionLine Month  Quantity\n",
       "0          Troy, NY         line 1   Jan     150.0\n",
       "1          Troy, NY         line 1   Feb     186.0\n",
       "2          Troy, NY         line 1   Mar     228.0\n",
       "3          Troy, NY         line 1   Apr     252.0\n",
       "4          Troy, NY         line 1   May     168.0\n",
       "..              ...            ...   ...       ...\n",
       "103  Harrisburg, PA         line 3   Aug      79.0\n",
       "104  Harrisburg, PA         line 3   Sep      79.0\n",
       "105  Harrisburg, PA         line 3   Oct      80.0\n",
       "106  Harrisburg, PA         line 3   Nov      80.0\n",
       "107  Harrisburg, PA         line 3   Dec      79.0\n",
       "\n",
       "[108 rows x 4 columns]"
      ]
     },
     "execution_count": 18,
     "metadata": {},
     "output_type": "execute_result"
    }
   ],
   "source": [
    "model2"
   ]
  },
  {
   "cell_type": "markdown",
   "id": "8243ed73",
   "metadata": {},
   "source": [
    "# Model 3"
   ]
  },
  {
   "cell_type": "code",
   "execution_count": 19,
   "id": "ba8146a2",
   "metadata": {},
   "outputs": [],
   "source": [
    "m = gp.Model(\"model 3\")"
   ]
  },
  {
   "cell_type": "code",
   "execution_count": null,
   "id": "314bab44",
   "metadata": {},
   "outputs": [],
   "source": []
  },
  {
   "cell_type": "code",
   "execution_count": 20,
   "id": "65f06c13",
   "metadata": {},
   "outputs": [],
   "source": [
    "# Transportation cost\n",
    "# shipping_cost\n",
    "ship = pd.read_excel('Project Data.xlsx', 'shipping_cost')\n",
    "ship = ship.iloc[:, 1:]\n",
    "c = {(facility, customer): ship.iloc[facility, customer]\n",
    "            for facility in range(0, 3)\n",
    "            for customer in range(0, 8)}\n",
    "# Production rate of production line l at factory i (Units per hour) \n",
    "w = {(facility, line): 6\n",
    "            for facility in range(0, 3)\n",
    "            for line in range(0, 3)}\n",
    "# Production capacity : M\n",
    "\n",
    "M = {(facility, line): 6 * 160\n",
    "            for facility in range(0, 3)\n",
    "            for line in range(0, 3)}\n",
    "# energy cost\n",
    "energy = pd.read_excel('Project Data.xlsx', 'energy_cost_new')\n",
    "energy = energy.iloc[:, 1:]\n",
    "e = {(facility, line): energy.iloc[0,line]\n",
    "            for facility in range(0, 3)\n",
    "            for line in range(0, 3)}\n",
    "# demand\n",
    "demand = pd.read_excel('Project Data.xlsx', 'demand')\n",
    "demand = demand.iloc[:, 1:]\n",
    "d = {(month, customer): demand.iloc[month, customer]\n",
    "            for month in range(0, 12)\n",
    "            for customer in range(0, 8)}"
   ]
  },
  {
   "cell_type": "markdown",
   "id": "f36c7d80",
   "metadata": {},
   "source": [
    "### Decision variable"
   ]
  },
  {
   "cell_type": "code",
   "execution_count": 21,
   "id": "69e61aa1",
   "metadata": {},
   "outputs": [],
   "source": [
    "# the number of units transported from factory i to store j in month m\n",
    "u = m.addVars(list(product(range(0, 3), range(0, 8), range(0, 12))),lb = 0 ,vtype = GRB.INTEGER, name = 'units transported')\n",
    "\n",
    "# the number of units produced at factory i from production line l in month m\n",
    "s = m.addVars(list(product(range(0, 3), range(0, 3), range(0, 12))),lb = 0,vtype = GRB.INTEGER, name = 'units produced')\n",
    "\n",
    "# Inventory of store j in month m\n",
    "ii = m.addVars(list(product(range(0, 8), range(0, 12))),lb = 0,vtype = GRB.INTEGER, name = 'inventory')"
   ]
  },
  {
   "cell_type": "markdown",
   "id": "97eef144",
   "metadata": {},
   "source": [
    "### Objective function"
   ]
  },
  {
   "cell_type": "code",
   "execution_count": 22,
   "id": "3f317d1f",
   "metadata": {},
   "outputs": [],
   "source": [
    "m.setObjective((3 * gp.quicksum(1.2 * c[i,j] * u[i, j, m] + e[i, l] * s[i, l, m] for l in range(0, 3) \n",
    "                             for m in range(0, 12) for j in range(0, 8) for i in range(0, 3)) \n",
    "               ), GRB.MINIMIZE)"
   ]
  },
  {
   "cell_type": "markdown",
   "id": "c19d02d3",
   "metadata": {},
   "source": [
    "### Constractions"
   ]
  },
  {
   "cell_type": "code",
   "execution_count": 23,
   "id": "8b082f66",
   "metadata": {
    "scrolled": true
   },
   "outputs": [
    {
     "name": "stdout",
     "output_type": "stream",
     "text": [
      "Gurobi Optimizer version 9.5.1 build v9.5.1rc2 (mac64[rosetta2])\n",
      "Thread count: 8 physical cores, 8 logical processors, using up to 8 threads\n",
      "Optimize a model with 360 rows, 492 columns and 1116 nonzeros\n",
      "Model fingerprint: 0x2b9ffc21\n",
      "Variable types: 0 continuous, 492 integer (0 binary)\n",
      "Coefficient statistics:\n",
      "  Matrix range     [2e-01, 1e+00]\n",
      "  Objective range  [3e-01, 2e+02]\n",
      "  Bounds range     [0e+00, 0e+00]\n",
      "  RHS range        [2e+01, 2e+03]\n",
      "Found heuristic solution: objective 8298118.9152\n",
      "Presolve removed 348 rows and 465 columns\n",
      "Presolve time: 0.01s\n",
      "Presolved: 12 rows, 27 columns, 54 nonzeros\n",
      "Found heuristic solution: objective 2438252.4096\n",
      "Variable types: 0 continuous, 27 integer (0 binary)\n",
      "Found heuristic solution: objective 2438248.0320\n",
      "\n",
      "Root relaxation: objective 2.433444e+06, 11 iterations, 0.00 seconds (0.00 work units)\n",
      "\n",
      "    Nodes    |    Current Node    |     Objective Bounds      |     Work\n",
      " Expl Unexpl |  Obj  Depth IntInf | Incumbent    BestBd   Gap | It/Node Time\n",
      "\n",
      "     0     0 2433443.73    0    3 2438248.03 2433443.73  0.20%     -    0s\n",
      "H    0     0                    2433821.7312 2433443.73  0.02%     -    0s\n",
      "H    0     0                    2433444.0538 2433443.73  0.00%     -    0s\n",
      "\n",
      "Explored 1 nodes (11 simplex iterations) in 0.02 seconds (0.00 work units)\n",
      "Thread count was 8 (of 8 available processors)\n",
      "\n",
      "Solution count 5: 2.43344e+06 2.43382e+06 2.43825e+06 ... 8.29812e+06\n",
      "\n",
      "Optimal solution found (tolerance 1.00e-04)\n",
      "Best objective 2.433444053760e+06, best bound 2.433443731200e+06, gap 0.0000%\n"
     ]
    }
   ],
   "source": [
    "# 1. Demand Fulfilment on Transportation\n",
    "m.addConstrs((gp.quicksum(u[i, j, m] for i in range(0, 3)) >= d[m, j] \n",
    "              for j in range(0, 8) for m in range(0, 12)), name='Demand')\n",
    "\n",
    "# 2. Production Capacity\n",
    "m.addConstrs((s[i, l, m] <= M[i, l] \n",
    "              for l in range(0, 3) for i in range(0, 3) for m in range(0, 12)), name='Capacity')\n",
    "\n",
    "# 3. Demand Fulfilment on Factory\n",
    "m.addConstrs((gp.quicksum(s[i, l, m] for i in range(0, 3) for l in range(0, 3)) >= (gp.quicksum(d[m, j] \n",
    "            for j in range(0, 8))) for m in range(0, 12)), name='Demand')\n",
    "\n",
    "# 4. Transportation units can’t exceed production units\n",
    "m.addConstrs((gp.quicksum(u[i, j, m] for j in range(0, 8)) <= gp.quicksum(s[i, l, m] for l in range(0, 3))\n",
    "              for i in range(0, 3) for m in range(0, 12)), name='Transport units')\n",
    "\n",
    "# 6. Equal wear and tear\n",
    "m.addConstrs((s[i, 0, m] / w[i, 0] == s[i, 1, m] / w[i, 1] \n",
    "              for i in range(0, 3) for m in range(0, 12)), name = '1')\n",
    "\n",
    "m.addConstrs((s[i, 1, m] / w[i, 1] == s[i, 2, m] / w[i, 2] \n",
    "              for i in range(0, 3) for m in range(0, 12)), name = '2')\n",
    "\n",
    "m.addConstrs((s[i, 0, m] / w[i, 0] == s[i, 2, m] / w[i, 2] \n",
    "              for i in range(0, 3) for m in range(0, 12)), name = '3')\n",
    "\n",
    "# m.addConstrs((s[0, l, m] / w[0, l] == s[1, l, m] / w[1, l] for l in range(0, 3) for m in range(0, 12)), name = 'Each factory all same 1')\n",
    "# m.addConstrs((s[1, l, m] / w[1, l] == s[2, l, m] / w[2, l] for l in range(0, 3) for m in range(0, 12)), name = 'Each factory all same 2')\n",
    "\n",
    "# Run optimization\n",
    "m.optimize()"
   ]
  },
  {
   "cell_type": "code",
   "execution_count": 24,
   "id": "0f14eba2",
   "metadata": {},
   "outputs": [
    {
     "data": {
      "text/plain": [
       "2433444.05376"
      ]
     },
     "execution_count": 24,
     "metadata": {},
     "output_type": "execute_result"
    }
   ],
   "source": [
    "obj = m.getObjective()\n",
    "model3_price = obj.getValue()\n",
    "model3_price"
   ]
  },
  {
   "cell_type": "code",
   "execution_count": 25,
   "id": "3dddac51",
   "metadata": {
    "scrolled": false
   },
   "outputs": [],
   "source": [
    "# Output\n",
    "factory = []\n",
    "production_line = []\n",
    "month = []\n",
    "quantity = []\n",
    "for facility in s.keys():\n",
    "    factory.append(Factory[facility[0]])\n",
    "    production_line.append(Line[facility[1]])\n",
    "    month.append(Month[facility[2]])\n",
    "    quantity.append(s[facility].x)\n",
    "\n",
    "model3 = pd.DataFrame({'Factory':factory, 'ProductionLine':production_line,'Month':month, 'Quantity':quantity})\n",
    "model3.to_excel('Model3_quantity.xlsx', index = 0)"
   ]
  },
  {
   "cell_type": "code",
   "execution_count": 26,
   "id": "5012c23e",
   "metadata": {},
   "outputs": [
    {
     "data": {
      "text/html": [
       "<div>\n",
       "<style scoped>\n",
       "    .dataframe tbody tr th:only-of-type {\n",
       "        vertical-align: middle;\n",
       "    }\n",
       "\n",
       "    .dataframe tbody tr th {\n",
       "        vertical-align: top;\n",
       "    }\n",
       "\n",
       "    .dataframe thead th {\n",
       "        text-align: right;\n",
       "    }\n",
       "</style>\n",
       "<table border=\"1\" class=\"dataframe\">\n",
       "  <thead>\n",
       "    <tr style=\"text-align: right;\">\n",
       "      <th></th>\n",
       "      <th>Factory</th>\n",
       "      <th>ProductionLine</th>\n",
       "      <th>Month</th>\n",
       "      <th>Quantity</th>\n",
       "    </tr>\n",
       "  </thead>\n",
       "  <tbody>\n",
       "    <tr>\n",
       "      <th>0</th>\n",
       "      <td>Troy, NY</td>\n",
       "      <td>line 1</td>\n",
       "      <td>Jan</td>\n",
       "      <td>117.0</td>\n",
       "    </tr>\n",
       "    <tr>\n",
       "      <th>1</th>\n",
       "      <td>Troy, NY</td>\n",
       "      <td>line 1</td>\n",
       "      <td>Feb</td>\n",
       "      <td>125.0</td>\n",
       "    </tr>\n",
       "    <tr>\n",
       "      <th>2</th>\n",
       "      <td>Troy, NY</td>\n",
       "      <td>line 1</td>\n",
       "      <td>Mar</td>\n",
       "      <td>150.0</td>\n",
       "    </tr>\n",
       "    <tr>\n",
       "      <th>3</th>\n",
       "      <td>Troy, NY</td>\n",
       "      <td>line 1</td>\n",
       "      <td>Apr</td>\n",
       "      <td>158.0</td>\n",
       "    </tr>\n",
       "    <tr>\n",
       "      <th>4</th>\n",
       "      <td>Troy, NY</td>\n",
       "      <td>line 1</td>\n",
       "      <td>May</td>\n",
       "      <td>150.0</td>\n",
       "    </tr>\n",
       "    <tr>\n",
       "      <th>...</th>\n",
       "      <td>...</td>\n",
       "      <td>...</td>\n",
       "      <td>...</td>\n",
       "      <td>...</td>\n",
       "    </tr>\n",
       "    <tr>\n",
       "      <th>103</th>\n",
       "      <td>Harrisburg, PA</td>\n",
       "      <td>line 3</td>\n",
       "      <td>Aug</td>\n",
       "      <td>117.0</td>\n",
       "    </tr>\n",
       "    <tr>\n",
       "      <th>104</th>\n",
       "      <td>Harrisburg, PA</td>\n",
       "      <td>line 3</td>\n",
       "      <td>Sep</td>\n",
       "      <td>84.0</td>\n",
       "    </tr>\n",
       "    <tr>\n",
       "      <th>105</th>\n",
       "      <td>Harrisburg, PA</td>\n",
       "      <td>line 3</td>\n",
       "      <td>Oct</td>\n",
       "      <td>84.0</td>\n",
       "    </tr>\n",
       "    <tr>\n",
       "      <th>106</th>\n",
       "      <td>Harrisburg, PA</td>\n",
       "      <td>line 3</td>\n",
       "      <td>Nov</td>\n",
       "      <td>92.0</td>\n",
       "    </tr>\n",
       "    <tr>\n",
       "      <th>107</th>\n",
       "      <td>Harrisburg, PA</td>\n",
       "      <td>line 3</td>\n",
       "      <td>Dec</td>\n",
       "      <td>167.0</td>\n",
       "    </tr>\n",
       "  </tbody>\n",
       "</table>\n",
       "<p>108 rows × 4 columns</p>\n",
       "</div>"
      ],
      "text/plain": [
       "            Factory ProductionLine Month  Quantity\n",
       "0          Troy, NY         line 1   Jan     117.0\n",
       "1          Troy, NY         line 1   Feb     125.0\n",
       "2          Troy, NY         line 1   Mar     150.0\n",
       "3          Troy, NY         line 1   Apr     158.0\n",
       "4          Troy, NY         line 1   May     150.0\n",
       "..              ...            ...   ...       ...\n",
       "103  Harrisburg, PA         line 3   Aug     117.0\n",
       "104  Harrisburg, PA         line 3   Sep      84.0\n",
       "105  Harrisburg, PA         line 3   Oct      84.0\n",
       "106  Harrisburg, PA         line 3   Nov      92.0\n",
       "107  Harrisburg, PA         line 3   Dec     167.0\n",
       "\n",
       "[108 rows x 4 columns]"
      ]
     },
     "execution_count": 26,
     "metadata": {},
     "output_type": "execute_result"
    }
   ],
   "source": [
    "model3"
   ]
  },
  {
   "cell_type": "code",
   "execution_count": 27,
   "id": "6754792e",
   "metadata": {
    "scrolled": true
   },
   "outputs": [],
   "source": [
    "# Reserve price"
   ]
  },
  {
   "cell_type": "code",
   "execution_count": 34,
   "id": "32ca5d4c",
   "metadata": {},
   "outputs": [
    {
     "data": {
      "text/plain": [
       "8243512.519680003"
      ]
     },
     "execution_count": 34,
     "metadata": {},
     "output_type": "execute_result"
    }
   ],
   "source": [
    "3*model1_price"
   ]
  },
  {
   "cell_type": "code",
   "execution_count": 35,
   "id": "b5d965cd",
   "metadata": {},
   "outputs": [
    {
     "data": {
      "text/plain": [
       "5810068.465920003"
      ]
     },
     "execution_count": 35,
     "metadata": {},
     "output_type": "execute_result"
    }
   ],
   "source": [
    "3 * model1_price - model3_price"
   ]
  },
  {
   "cell_type": "markdown",
   "id": "6724b80c",
   "metadata": {},
   "source": [
    "## Q1"
   ]
  },
  {
   "cell_type": "code",
   "execution_count": 36,
   "id": "fda5729b",
   "metadata": {},
   "outputs": [
    {
     "data": {
      "text/plain": [
       "2747837.506560001"
      ]
     },
     "execution_count": 36,
     "metadata": {},
     "output_type": "execute_result"
    }
   ],
   "source": [
    "model1_price"
   ]
  },
  {
   "cell_type": "code",
   "execution_count": 37,
   "id": "c1de523d",
   "metadata": {},
   "outputs": [
    {
     "data": {
      "text/plain": [
       "1505199.5673599998"
      ]
     },
     "execution_count": 37,
     "metadata": {},
     "output_type": "execute_result"
    }
   ],
   "source": [
    "model2_price"
   ]
  },
  {
   "cell_type": "code",
   "execution_count": 32,
   "id": "154c77ca",
   "metadata": {},
   "outputs": [
    {
     "data": {
      "text/plain": [
       "1242637.9392000013"
      ]
     },
     "execution_count": 32,
     "metadata": {},
     "output_type": "execute_result"
    }
   ],
   "source": [
    "model1_price - model2_price"
   ]
  },
  {
   "cell_type": "markdown",
   "id": "479547b3",
   "metadata": {},
   "source": [
    "### Q2"
   ]
  },
  {
   "cell_type": "code",
   "execution_count": 33,
   "id": "395afb08",
   "metadata": {},
   "outputs": [
    {
     "data": {
      "text/plain": [
       "5810068.465920003"
      ]
     },
     "execution_count": 33,
     "metadata": {},
     "output_type": "execute_result"
    }
   ],
   "source": [
    "3 * model1_price - model3_price"
   ]
  },
  {
   "cell_type": "code",
   "execution_count": 38,
   "id": "158622a6",
   "metadata": {},
   "outputs": [
    {
     "data": {
      "text/plain": [
       "2433444.05376"
      ]
     },
     "execution_count": 38,
     "metadata": {},
     "output_type": "execute_result"
    }
   ],
   "source": [
    "model3_price"
   ]
  },
  {
   "cell_type": "code",
   "execution_count": 39,
   "id": "c23498bb",
   "metadata": {},
   "outputs": [
    {
     "data": {
      "text/plain": [
       "8243512.519680003"
      ]
     },
     "execution_count": 39,
     "metadata": {},
     "output_type": "execute_result"
    }
   ],
   "source": [
    "3 * model1_price"
   ]
  },
  {
   "cell_type": "code",
   "execution_count": null,
   "id": "d93b916a",
   "metadata": {},
   "outputs": [],
   "source": []
  }
 ],
 "metadata": {
  "kernelspec": {
   "display_name": "Python 3",
   "language": "python",
   "name": "python3"
  },
  "language_info": {
   "codemirror_mode": {
    "name": "ipython",
    "version": 3
   },
   "file_extension": ".py",
   "mimetype": "text/x-python",
   "name": "python",
   "nbconvert_exporter": "python",
   "pygments_lexer": "ipython3",
   "version": "3.8.8"
  }
 },
 "nbformat": 4,
 "nbformat_minor": 5
}
